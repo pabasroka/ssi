{
 "cells": [
  {
   "cell_type": "code",
   "execution_count": 379,
   "metadata": {},
   "outputs": [],
   "source": [
    "import pandas as pd\n",
    "import numpy as np\n",
    "from random import randint\n",
    "iris = pd.read_csv(\"iris.csv\")"
   ]
  },
  {
   "cell_type": "code",
   "execution_count": 380,
   "metadata": {},
   "outputs": [],
   "source": [
    "class ProcessingData(object):\n",
    "    @staticmethod\n",
    "    def normalization(data):\n",
    "        data.iloc[:, :-1] = (data.iloc[:, :-1] - data.iloc[:, :-1].min()) / (data.iloc[:, :-1].max() - data.iloc[:, :-1].min())\n",
    "\n",
    "    @staticmethod\n",
    "    def shuffling(data):\n",
    "        for i in range(len(data) - 1, 0, -1):\n",
    "            new_place = randint(0, i - 1)\n",
    "            data.loc[i], data.loc[new_place] = data.loc[new_place], data.loc[i]\n",
    "\n",
    "    @staticmethod\n",
    "    def divide(data, n):\n",
    "        return data[:n], data[n:]"
   ]
  },
  {
   "cell_type": "code",
   "execution_count": 381,
   "metadata": {},
   "outputs": [],
   "source": [
    "data = iris.copy()\n",
    "ProcessingData.normalization(data)\n",
    "ProcessingData.shuffling(data)\n",
    "train_data, validation_data = ProcessingData.divide(data, 105)"
   ]
  },
  {
   "cell_type": "code",
   "execution_count": 382,
   "metadata": {},
   "outputs": [],
   "source": [
    "class Bayes(object):\n",
    "\n",
    "    @staticmethod\n",
    "    def bayes(train_data, validation_data):\n",
    "        data = train_data.sort_values(by=[\"variety\"])\n",
    "        setosa = data[data.variety == \"Setosa\"]\n",
    "        virginica = data[data.variety == \"Virginica\"]\n",
    "        versicolor = data[data.variety == \"Versicolor\"]\n",
    "        sorted_data = [setosa, virginica, versicolor]\n",
    "        mean_array = []\n",
    "        std_dev_array = []\n",
    "\n",
    "        for x in sorted_data:\n",
    "            m = x.iloc[:, :-1].mean()\n",
    "            std_dev = Bayes.__std_dev(x, m)\n",
    "            mean_array.append(m)\n",
    "            std_dev_array.append(std_dev)\n",
    "\n",
    "        return Bayes.__gauss(validation_data, np.array(mean_array), std_dev_array)\n",
    "            \n",
    "\n",
    "    def __std_dev(x, m):\n",
    "        o = [0] * len(m) \n",
    "        n = len(x)\n",
    "        for i in range(0, len(x)):\n",
    "            xi = x.iloc[i, :-1]\n",
    "            for j in range(0, len(m)):\n",
    "                o[j] += (xi.iloc[j, ] - m.iloc[j, ]) ** 2\n",
    "\n",
    "        for i in range(0, len(m)):\n",
    "            o[i] = np.sqrt((1 / n) * o[i])\n",
    "        return o\n",
    "\n",
    "\n",
    "    def __gauss(x, m, std_dev):\n",
    "        correct = 0\n",
    "        for i in range(0, len(x)):\n",
    "            correct_variety = x.iloc[i].variety\n",
    "            results = []\n",
    "            for j in range(0, len(m)):\n",
    "                r = 1\n",
    "                for k in range(0, len(m[j])):\n",
    "                    r *= (1 / np.sqrt(2 * np.pi) * std_dev[j][k]) * np.exp((-np.power(x.iloc[i, k] - m[j][k], 2)) / 2 * np.power(std_dev[j][k], 2))\n",
    "                results.append(r)\n",
    "\n",
    "            if np.argmax(results) == 0:\n",
    "                current_name = \"Setosa\"\n",
    "            elif np.argmax(results) == 1:\n",
    "                current_name = \"Versicolor\"\n",
    "            elif np.argmax(results) == 2:\n",
    "                current_name = \"Virginica\"\n",
    "\n",
    "            if correct_variety == current_name:\n",
    "                correct += 1   \n",
    "\n",
    "        return correct * 100 / len(x)\n"
   ]
  },
  {
   "cell_type": "code",
   "execution_count": 383,
   "metadata": {},
   "outputs": [],
   "source": [
    "result = Bayes.bayes(train_data, validation_data)"
   ]
  },
  {
   "cell_type": "code",
   "execution_count": null,
   "metadata": {},
   "outputs": [],
   "source": []
  }
 ],
 "metadata": {
  "interpreter": {
   "hash": "c7e7815317e74673dc986bef0ed5360c24af6a8cda11593259c02f2cb180f8eb"
  },
  "kernelspec": {
   "display_name": "Python 3.7.2 32-bit",
   "language": "python",
   "name": "python3"
  },
  "language_info": {
   "codemirror_mode": {
    "name": "ipython",
    "version": 3
   },
   "file_extension": ".py",
   "mimetype": "text/x-python",
   "name": "python",
   "nbconvert_exporter": "python",
   "pygments_lexer": "ipython3",
   "version": "3.9.0"
  },
  "orig_nbformat": 4
 },
 "nbformat": 4,
 "nbformat_minor": 2
}

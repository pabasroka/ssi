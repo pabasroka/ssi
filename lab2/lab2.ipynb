{
 "cells": [
  {
   "cell_type": "code",
   "execution_count": 1,
   "metadata": {
    "collapsed": true,
    "pycharm": {
     "name": "#%%\n"
    }
   },
   "outputs": [],
   "source": [
    "import pandas as pd\n",
    "import math\n",
    "\n",
    "from random import randint\n",
    "\n",
    "iris = pd.read_csv('C:/Users/Paba/Desktop/semestr4/ssi/lab2/iris.csv')"
   ]
  },
  {
   "cell_type": "code",
   "execution_count": 2,
   "metadata": {
    "collapsed": false,
    "pycharm": {
     "name": "#%%\n"
    }
   },
   "outputs": [],
   "source": [
    "class ProcessingData(object):\n",
    "    @staticmethod\n",
    "    def normalization(data):\n",
    "        data.iloc[:, :-1] = (data.iloc[:, :-1] - data.iloc[:, :-1].min()) / (data.iloc[:, :-1].max() - data.iloc[:, :-1].min())\n",
    "\n",
    "    @staticmethod\n",
    "    def shuffling(data):\n",
    "        for i in range(len(data) - 1, 0, -1):\n",
    "            new_place = randint(0, i - 1)\n",
    "            data.loc[i], data.loc[new_place] = data.loc[new_place], data.loc[i]\n",
    "\n",
    "    @staticmethod\n",
    "    def divide(data, n):\n",
    "        return data[:n], data[n:]"
   ]
  },
  {
   "cell_type": "code",
   "execution_count": 3,
   "metadata": {
    "collapsed": false,
    "pycharm": {
     "name": "#%%\n"
    }
   },
   "outputs": [],
   "source": [
    "data_edit = iris.copy()\n",
    "ProcessingData.normalization(data_edit)"
   ]
  },
  {
   "cell_type": "code",
   "execution_count": 4,
   "metadata": {
    "collapsed": false,
    "pycharm": {
     "name": "#%%\n"
    }
   },
   "outputs": [],
   "source": [
    "ProcessingData.shuffling(data_edit)"
   ]
  },
  {
   "cell_type": "code",
   "execution_count": 5,
   "metadata": {
    "collapsed": false,
    "pycharm": {
     "name": "#%%\n"
    }
   },
   "outputs": [],
   "source": [
    "train_data, validation_data = ProcessingData.divide(data_edit, 45)"
   ]
  },
  {
   "cell_type": "code",
   "execution_count": 6,
   "metadata": {
    "collapsed": false,
    "pycharm": {
     "name": "#%%\n"
    }
   },
   "outputs": [],
   "source": [
    "class Knn(object):\n",
    "    @staticmethod\n",
    "    def knn(validation_data, train_data, k, m):\n",
    "        correct = 0\n",
    "\n",
    "        for validation in range(len(validation_data)):\n",
    "            correct_type = validation_data.iloc[validation].variety\n",
    "            iris_type = { \"Setosa\": 0, \"Virginica\": 0, \"Versicolor\": 0}\n",
    "            dist_list = []\n",
    "            current_valid = validation_data.iloc[validation].tolist()\n",
    "            \n",
    "            for train in range(len(train_data)):\n",
    "                current_test = train_data.iloc[train].tolist()\n",
    "                d = Knn.__d(current_valid, current_test, m)\n",
    "                dist_list.append(d)\n",
    "                \n",
    "            dist_list, train_data = Knn.__sort_data(dist_list, train_data)\n",
    "            \n",
    "            for i in range(0, k):\n",
    "                iris_type[train_data.iloc[i].variety] += 1\n",
    "            \n",
    "            win = max(iris_type, key=iris_type.get)\n",
    "            \n",
    "            if win == correct_type:\n",
    "                correct += 1\n",
    "\n",
    "        return correct / len(validation_data) * 100 \n",
    "                \n",
    "    def __d(x_data, y_data, m):\n",
    "        d = 0.0\n",
    "        for i in range(len(x_data) - 1):\n",
    "            d += abs(x_data[i] - y_data[i]) ** m\n",
    "        return d ** (1 / m)\n",
    "    \n",
    "    def __sort_data(dist, train_data):\n",
    "        for i in range(len(train_data)):\n",
    "            for j in range(len(train_data) - i - 1):\n",
    "                if dist[j] > dist[j + 1]:\n",
    "                    dist[j], dist[j + 1] = dist[j + 1], dist[j]\n",
    "                    train_data.iloc[j], train_data.iloc[j + 1] = train_data.iloc[j + 1], train_data.iloc[j]\n",
    "        return dist, train_data\n",
    "                "
   ]
  },
  {
   "cell_type": "code",
   "execution_count": 7,
   "metadata": {},
   "outputs": [
    {
     "name": "stderr",
     "output_type": "stream",
     "text": [
      "C:\\Users\\Paba\\anaconda3\\lib\\site-packages\\pandas\\core\\indexing.py:1797: SettingWithCopyWarning: \n",
      "A value is trying to be set on a copy of a slice from a DataFrame.\n",
      "Try using .loc[row_indexer,col_indexer] = value instead\n",
      "\n",
      "See the caveats in the documentation: https://pandas.pydata.org/pandas-docs/stable/user_guide/indexing.html#returning-a-view-versus-a-copy\n",
      "  self._setitem_single_column(loc, v, pi)\n"
     ]
    },
    {
     "name": "stdout",
     "output_type": "stream",
     "text": [
      "91.42857142857143\n",
      "94.28571428571428\n",
      "93.33333333333333\n"
     ]
    }
   ],
   "source": [
    "result_k_2 = Knn.knn(validation_data, train_data, 2, 2)\n",
    "result_k_3 = Knn.knn(validation_data, train_data, 3, 2)\n",
    "result_k_4 = Knn.knn(validation_data, train_data, 4, 2)\n",
    "print(result_k_2)\n",
    "print(result_k_3)\n",
    "print(result_k_4)"
   ]
  }
 ],
 "metadata": {
  "kernelspec": {
   "display_name": "Python 3 (ipykernel)",
   "language": "python",
   "name": "python3"
  },
  "language_info": {
   "codemirror_mode": {
    "name": "ipython",
    "version": 3
   },
   "file_extension": ".py",
   "mimetype": "text/x-python",
   "name": "python",
   "nbconvert_exporter": "python",
   "pygments_lexer": "ipython3",
   "version": "3.9.7"
  }
 },
 "nbformat": 4,
 "nbformat_minor": 0
}

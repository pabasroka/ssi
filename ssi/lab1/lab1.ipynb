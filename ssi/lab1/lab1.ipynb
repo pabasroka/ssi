{
 "cells": [
  {
   "cell_type": "code",
   "execution_count": 3,
   "metadata": {
    "collapsed": true,
    "pycharm": {
     "name": "#%%\n"
    }
   },
   "outputs": [],
   "source": [
    "import pandas as pd\n",
    "import seaborn as sns\n",
    "from random import randint\n",
    "\n",
    "iris = pd.read_csv('F:\\python\\ssi\\lab1\\iris.csv')"
   ]
  },
  {
   "cell_type": "code",
   "execution_count": 4,
   "outputs": [],
   "source": [
    "class ProcessingData(object):\n",
    "    @staticmethod\n",
    "    def normalization(data):\n",
    "        # d = (x - min_x) / (max_x - min_x)\n",
    "        data.iloc[:, :-1] = (data.iloc[:, :-1] - data.iloc[:, :-1].min()) / (data.iloc[:, :-1].max() - data.iloc[:, :-1].min())\n",
    "\n",
    "    @staticmethod\n",
    "    def shuffling(data):\n",
    "        for i in range(len(data) - 1, 0, -1):\n",
    "            new_place = randint(0, i - 1)\n",
    "            data.loc[i], data.loc[new_place] = data.loc[new_place], data.loc[i]\n",
    "\n",
    "    @staticmethod\n",
    "    def divide(data, n):\n",
    "        return data[:n], data[n:]"
   ],
   "metadata": {
    "collapsed": false,
    "pycharm": {
     "name": "#%%\n"
    }
   }
  },
  {
   "cell_type": "code",
   "execution_count": 5,
   "outputs": [
    {
     "name": "stdout",
     "output_type": "stream",
     "text": [
      "     sepal.length  sepal.width  petal.length  petal.width    variety\n",
      "0        0.222222     0.625000      0.067797     0.041667     Setosa\n",
      "1        0.166667     0.416667      0.067797     0.041667     Setosa\n",
      "2        0.111111     0.500000      0.050847     0.041667     Setosa\n",
      "3        0.083333     0.458333      0.084746     0.041667     Setosa\n",
      "4        0.194444     0.666667      0.067797     0.041667     Setosa\n",
      "..            ...          ...           ...          ...        ...\n",
      "145      0.666667     0.416667      0.711864     0.916667  Virginica\n",
      "146      0.555556     0.208333      0.677966     0.750000  Virginica\n",
      "147      0.611111     0.416667      0.711864     0.791667  Virginica\n",
      "148      0.527778     0.583333      0.745763     0.916667  Virginica\n",
      "149      0.444444     0.416667      0.694915     0.708333  Virginica\n",
      "\n",
      "[150 rows x 5 columns]\n"
     ]
    }
   ],
   "source": [
    "data_edit = iris.copy()\n",
    "ProcessingData.normalization(data_edit)\n",
    "print(data_edit)"
   ],
   "metadata": {
    "collapsed": false,
    "pycharm": {
     "name": "#%%\n"
    }
   }
  },
  {
   "cell_type": "code",
   "execution_count": 6,
   "outputs": [
    {
     "name": "stdout",
     "output_type": "stream",
     "text": [
      "     sepal.length  sepal.width  petal.length  petal.width     variety\n",
      "0        0.666667     0.416667      0.677966     0.666667  Versicolor\n",
      "1        0.333333     0.916667      0.067797     0.041667      Setosa\n",
      "2        0.805556     0.666667      0.864407     1.000000   Virginica\n",
      "3        0.500000     0.375000      0.627119     0.541667  Versicolor\n",
      "4        0.388889     0.250000      0.423729     0.375000  Versicolor\n",
      "..            ...          ...           ...          ...         ...\n",
      "145      0.722222     0.458333      0.694915     0.916667   Virginica\n",
      "146      0.027778     0.375000      0.067797     0.041667      Setosa\n",
      "147      0.166667     0.666667      0.067797     0.000000      Setosa\n",
      "148      0.416667     0.250000      0.508475     0.458333  Versicolor\n",
      "149      0.388889     0.416667      0.542373     0.458333  Versicolor\n",
      "\n",
      "[150 rows x 5 columns]\n"
     ]
    }
   ],
   "source": [
    "ProcessingData.shuffling(data_edit)\n",
    "print(data_edit)\n"
   ],
   "metadata": {
    "collapsed": false,
    "pycharm": {
     "name": "#%%\n"
    }
   }
  },
  {
   "cell_type": "code",
   "execution_count": 8,
   "outputs": [
    {
     "name": "stdout",
     "output_type": "stream",
     "text": [
      "    sepal.length  sepal.width  petal.length  petal.width     variety\n",
      "0       0.666667     0.416667      0.677966     0.666667  Versicolor\n",
      "1       0.333333     0.916667      0.067797     0.041667      Setosa\n",
      "2       0.805556     0.666667      0.864407     1.000000   Virginica\n",
      "3       0.500000     0.375000      0.627119     0.541667  Versicolor\n",
      "4       0.388889     0.250000      0.423729     0.375000  Versicolor\n",
      "5       0.666667     0.541667      0.796610     1.000000   Virginica\n",
      "6       0.194444     0.541667      0.067797     0.041667      Setosa\n",
      "7       0.611111     0.416667      0.813559     0.875000   Virginica\n",
      "8       0.166667     0.166667      0.389831     0.375000  Versicolor\n",
      "9       0.250000     0.875000      0.084746     0.000000      Setosa\n",
      "10      0.361111     0.416667      0.593220     0.583333  Versicolor\n",
      "11      0.388889     0.333333      0.593220     0.500000  Versicolor\n",
      "12      0.666667     0.541667      0.796610     0.833333   Virginica\n",
      "13      0.083333     0.583333      0.067797     0.083333      Setosa\n",
      "14      0.222222     0.750000      0.101695     0.041667      Setosa\n",
      "15      0.611111     0.333333      0.610169     0.583333  Versicolor\n",
      "16      0.722222     0.500000      0.796610     0.916667   Virginica\n",
      "17      0.444444     0.416667      0.542373     0.583333  Versicolor\n",
      "18      0.500000     0.416667      0.610169     0.541667  Versicolor\n",
      "19      0.194444     0.416667      0.101695     0.041667      Setosa\n",
      "     sepal.length  sepal.width  petal.length  petal.width     variety\n",
      "20       0.555556     0.291667      0.661017     0.708333   Virginica\n",
      "21       0.833333     0.375000      0.898305     0.708333   Virginica\n",
      "22       0.166667     0.458333      0.084746     0.041667      Setosa\n",
      "23       0.388889     0.750000      0.118644     0.083333      Setosa\n",
      "24       0.138889     0.416667      0.067797     0.000000      Setosa\n",
      "..            ...          ...           ...          ...         ...\n",
      "145      0.722222     0.458333      0.694915     0.916667   Virginica\n",
      "146      0.027778     0.375000      0.067797     0.041667      Setosa\n",
      "147      0.166667     0.666667      0.067797     0.000000      Setosa\n",
      "148      0.416667     0.250000      0.508475     0.458333  Versicolor\n",
      "149      0.388889     0.416667      0.542373     0.458333  Versicolor\n",
      "\n",
      "[130 rows x 5 columns]\n"
     ]
    }
   ],
   "source": [
    "train_data, validation_data = ProcessingData.divide(data_edit, 20)\n",
    "print(train_data)\n",
    "print(validation_data)"
   ],
   "metadata": {
    "collapsed": false,
    "pycharm": {
     "name": "#%%\n"
    }
   }
  },
  {
   "cell_type": "code",
   "execution_count": null,
   "outputs": [],
   "source": [],
   "metadata": {
    "collapsed": false,
    "pycharm": {
     "name": "#%%\n"
    }
   }
  }
 ],
 "metadata": {
  "kernelspec": {
   "name": "python3",
   "language": "python",
   "display_name": "Python 3 (ipykernel)"
  },
  "language_info": {
   "codemirror_mode": {
    "name": "ipython",
    "version": 2
   },
   "file_extension": ".py",
   "mimetype": "text/x-python",
   "name": "python",
   "nbconvert_exporter": "python",
   "pygments_lexer": "ipython2",
   "version": "2.7.6"
  }
 },
 "nbformat": 4,
 "nbformat_minor": 0
}